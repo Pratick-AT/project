{
  "nbformat": 4,
  "nbformat_minor": 0,
  "metadata": {
    "colab": {
      "provenance": [],
      "authorship_tag": "ABX9TyP4HeXBw3+mPhrkHaan2Ma/",
      "include_colab_link": true
    },
    "kernelspec": {
      "name": "python3",
      "display_name": "Python 3"
    },
    "language_info": {
      "name": "python"
    }
  },
  "cells": [
    {
      "cell_type": "markdown",
      "metadata": {
        "id": "view-in-github",
        "colab_type": "text"
      },
      "source": [
        "<a href=\"https://colab.research.google.com/github/Pratick-AT/project/blob/main/PDF_GENIE.ipynb\" target=\"_parent\"><img src=\"https://colab.research.google.com/assets/colab-badge.svg\" alt=\"Open In Colab\"/></a>"
      ]
    },
    {
      "cell_type": "code",
      "source": [
        "!pip install PyMuPDF\n",
        "!pip install numpy\n",
        "!pip install scikit-learn\n",
        "!pip install tensorflow\n",
        "!pip install tensorflow-hub\n",
        "!pip install openai\n",
        "!pip install gradio"
      ],
      "metadata": {
        "id": "lC73YTbHDmWM"
      },
      "execution_count": null,
      "outputs": []
    },
    {
      "cell_type": "code",
      "execution_count": 3,
      "metadata": {
        "id": "9uzmwT99DePA"
      },
      "outputs": [],
      "source": [
        "\"\"\"\n",
        "This module provides functions for working with PDF files and URLs. It uses the urllib.request library\n",
        "to download files from URLs, and the fitz library to extract text from PDF files. And GPT3 modules to generate\n",
        "text completions.\n",
        "\"\"\"\n",
        "import urllib.request\n",
        "import fitz\n",
        "import re\n",
        "import numpy as np\n",
        "import tensorflow_hub as hub\n",
        "import openai\n",
        "import gradio as gr\n",
        "import os\n",
        "from sklearn.neighbors import NearestNeighbors\n",
        "\n",
        "def download_pdf(url, output_path):\n",
        "    urllib.request.urlretrieve(url, output_path)\n",
        "\n",
        "\n",
        "def preprocess(text):\n",
        "    text = text.replace('\\n', ' ')\n",
        "    text = re.sub('\\s+', ' ', text)\n",
        "    return text\n",
        "\n",
        "\n",
        "def pdf_to_text(path, start_page=1, end_page=None):\n",
        "    doc = fitz.open(path)\n",
        "    total_pages = doc.page_count\n",
        "\n",
        "    if end_page is None:\n",
        "        end_page = total_pages\n",
        "\n",
        "    text_list = []\n",
        "\n",
        "    for i in range(start_page-1, end_page):\n",
        "        text = doc.load_page(i).get_text(\"text\")\n",
        "        text = preprocess(text)\n",
        "        text_list.append(text)\n",
        "\n",
        "    doc.close()\n",
        "    return text_list\n",
        "\n",
        "\n",
        "def text_to_chunks(texts, word_length=150, start_page=1):\n",
        "    text_toks = [t.split(' ') for t in texts]\n",
        "    page_nums = []\n",
        "    chunks = []\n",
        "    \n",
        "    for idx, words in enumerate(text_toks):\n",
        "        for i in range(0, len(words), word_length):\n",
        "            chunk = words[i:i+word_length]\n",
        "            if (i+word_length) > len(words) and (len(chunk) < word_length) and (\n",
        "                len(text_toks) != (idx+1)):\n",
        "                text_toks[idx+1] = chunk + text_toks[idx+1]\n",
        "                continue\n",
        "            chunk = ' '.join(chunk).strip()\n",
        "            chunk = f'[{idx+start_page}]' + ' ' + '\"' + chunk + '\"'\n",
        "            chunks.append(chunk)\n",
        "    return chunks\n"
      ]
    },
    {
      "cell_type": "code",
      "source": [
        "class SemanticSearch:\n",
        "    \n",
        "    def __init__(self):\n",
        "        self.use = hub.load('https://tfhub.dev/google/universal-sentence-encoder/4')\n",
        "        self.fitted = False\n",
        "    \n",
        "    \n",
        "    def fit(self, data, batch=1000, n_neighbors=5):\n",
        "        self.data = data\n",
        "        self.embeddings = self.get_text_embedding(data, batch=batch)\n",
        "        n_neighbors = min(n_neighbors, len(self.embeddings))\n",
        "        self.nn = NearestNeighbors(n_neighbors=n_neighbors)\n",
        "        self.nn.fit(self.embeddings)\n",
        "        self.fitted = True\n",
        "    \n",
        "    \n",
        "    def __call__(self, text, return_data=True):\n",
        "        inp_emb = self.use([text])\n",
        "        neighbors = self.nn.kneighbors(inp_emb, return_distance=False)[0]\n",
        "        \n",
        "        if return_data:\n",
        "            return [self.data[i] for i in neighbors]\n",
        "        else:\n",
        "            return neighbors\n",
        "    \n",
        "    \n",
        "    def get_text_embedding(self, texts, batch=1000):\n",
        "        embeddings = []\n",
        "        for i in range(0, len(texts), batch):\n",
        "            text_batch = texts[i:(i+batch)]\n",
        "            emb_batch = self.use(text_batch)\n",
        "            embeddings.append(emb_batch)\n",
        "        embeddings = np.vstack(embeddings)\n",
        "        return embeddings"
      ],
      "metadata": {
        "id": "yhsyR7FeD-pZ"
      },
      "execution_count": 4,
      "outputs": []
    },
    {
      "cell_type": "code",
      "source": [
        "def load_recommender(path, start_page=1):\n",
        "    global recommender\n",
        "    texts = pdf_to_text(path, start_page=start_page)\n",
        "    chunks = text_to_chunks(texts, start_page=start_page)\n",
        "    recommender.fit(chunks)\n",
        "    return 'Corpus Loaded.'\n",
        "\n",
        "def generate_text(openAI_key,prompt, engine=\"text-davinci-003\"):\n",
        "    openai.api_key = openAI_key\n",
        "    completions = openai.Completion.create(\n",
        "        engine=engine,\n",
        "        prompt=prompt,\n",
        "        max_tokens=512,\n",
        "        n=1,\n",
        "        stop=None,\n",
        "        temperature=0.7,\n",
        "    )\n",
        "    message = completions.choices[0].text\n",
        "    return message\n",
        "\n",
        "def generate_answer(question,openAI_key):\n",
        "    topn_chunks = recommender(question)\n",
        "    prompt = \"\"\n",
        "    prompt += 'search results:\\n\\n'\n",
        "    for c in topn_chunks:\n",
        "        prompt += c + '\\n\\n'\n",
        "        \n",
        "    prompt += \"Instructions: Compose a comprehensive reply to the query using the search results given. \"\\\n",
        "              \"Cite each reference using [ Page Number] notation (every result has this number at the beginning). \"\\\n",
        "              \"Citation should be done at the end of each sentence. If the search results mention multiple subjects \"\\\n",
        "              \"with the same name, create separate answers for each. Only include information found in the results and \"\\\n",
        "              \"don't add any additional information. Make sure the answer is correct and don't output false content. \"\\\n",
        "              \"If the text does not relate to the query, simply state 'Text Not Found in PDF'. Ignore outlier \"\\\n",
        "              \"search results which has nothing to do with the question. Only answer what is asked. The \"\\\n",
        "              \"answer should be short and concise. Answer step-by-step. \\n\\nQuery: {question}\\nAnswer: \"\n",
        "    \n",
        "    prompt += f\"Query: {question}\\nAnswer:\"\n",
        "    answer = generate_text(openAI_key, prompt,\"text-davinci-003\")\n",
        "    return answer\n",
        "\n",
        "\n",
        "def question_answer(url, file, question,openAI_key):\n",
        "    if openAI_key.strip()=='':\n",
        "        return '[ERROR]: Please enter you Open AI Key. Get your key here : https://platform.openai.com/account/api-keys'\n",
        "    if url.strip() == '' and file == None:\n",
        "        return '[ERROR]: Both URL and PDF is empty. Provide atleast one.'\n",
        "    \n",
        "    if url.strip() != '' and file != None:\n",
        "        return '[ERROR]: Both URL and PDF is provided. Please provide only one (eiter URL or PDF).'\n",
        "\n",
        "    if url.strip() != '':\n",
        "        glob_url = url\n",
        "        download_pdf(glob_url, 'corpus.pdf')\n",
        "        load_recommender('corpus.pdf')\n",
        "\n",
        "    else:\n",
        "        old_file_name = file.name\n",
        "        file_name = file.name\n",
        "        file_name = file_name[:-12] + file_name[-4:]\n",
        "        os.rename(old_file_name, file_name)\n",
        "        load_recommender(file_name)\n",
        "\n",
        "    if question.strip() == '':\n",
        "        return '[ERROR]: Question field is empty'\n",
        "\n",
        "    return generate_answer(question,openAI_key)\n",
        "\n",
        "\n",
        "recommender = SemanticSearch()"
      ],
      "metadata": {
        "id": "4CTDcX9cEFIh"
      },
      "execution_count": 5,
      "outputs": []
    },
    {
      "cell_type": "code",
      "source": [
        "title = 'PDF GENIE'\n",
        "description = \"\"\" PDF GENIE a PDF-based Generalized Encoder for Natural-language Interaction and Exploration, allows you to chat with your PDF file using Universal Sentence Encoder and Open AI. It gives hallucination free response than other tools as the embeddings are better than OpenAI. The returned response can even cite the page number in square brackets([]) where the information is located, adding credibility to the responses and helping to locate pertinent information quickly.\"\"\"\n",
        "\n",
        "with gr.Blocks(theme=gr.themes.Soft(primary_hue=\"green\", secondary_hue=\"lime\")) as demo:\n",
        "\n",
        "    gr.Markdown(f'<center><h1>{title}</h1></center>')\n",
        "    gr.Markdown(f'<center><h3>{description}</h3></center>')\n",
        "\n",
        "    with gr.Row():\n",
        "        \n",
        "        with gr.Group():\n",
        "            gr.Markdown(f'<p style=\"text-align:center\">Get your Open AI API key <a href=\"https://platform.openai.com/account/api-keys\">here</a></p>')\n",
        "            openAI_key=gr.Textbox(label='Enter your OpenAI API key here')\n",
        "            url = gr.Textbox(label='Enter PDF URL here')\n",
        "            gr.Markdown(\"<center><h4>OR<h4></center>\")\n",
        "            file = gr.File(label='Upload your PDF/ Research Paper / Book here', file_types=['.pdf'])\n",
        "            question = gr.Textbox(label='Enter your question here')\n",
        "            btn = gr.Button(value='Submit')\n",
        "            btn.style(full_width=True)\n",
        "\n",
        "        with gr.Group():\n",
        "            answer = gr.Textbox(label='The answer to your question is :')\n",
        "\n",
        "        btn.click(question_answer, inputs=[url, file, question,openAI_key], outputs=[answer])\n",
        "openai.api_key = os.getenv('') \n",
        "demo.launch()"
      ],
      "metadata": {
        "colab": {
          "base_uri": "https://localhost:8080/",
          "height": 616
        },
        "id": "1OXHmmM9EILK",
        "outputId": "1b7ea7ac-e589-47d2-b164-716036357b89"
      },
      "execution_count": 7,
      "outputs": [
        {
          "output_type": "stream",
          "name": "stdout",
          "text": [
            "Colab notebook detected. To show errors in colab notebook, set debug=True in launch()\n",
            "Note: opening Chrome Inspector may crash demo inside Colab notebooks.\n",
            "\n",
            "To create a public link, set `share=True` in `launch()`.\n"
          ]
        },
        {
          "output_type": "display_data",
          "data": {
            "text/plain": [
              "<IPython.core.display.Javascript object>"
            ],
            "application/javascript": [
              "(async (port, path, width, height, cache, element) => {\n",
              "                        if (!google.colab.kernel.accessAllowed && !cache) {\n",
              "                            return;\n",
              "                        }\n",
              "                        element.appendChild(document.createTextNode(''));\n",
              "                        const url = await google.colab.kernel.proxyPort(port, {cache});\n",
              "\n",
              "                        const external_link = document.createElement('div');\n",
              "                        external_link.innerHTML = `\n",
              "                            <div style=\"font-family: monospace; margin-bottom: 0.5rem\">\n",
              "                                Running on <a href=${new URL(path, url).toString()} target=\"_blank\">\n",
              "                                    https://localhost:${port}${path}\n",
              "                                </a>\n",
              "                            </div>\n",
              "                        `;\n",
              "                        element.appendChild(external_link);\n",
              "\n",
              "                        const iframe = document.createElement('iframe');\n",
              "                        iframe.src = new URL(path, url).toString();\n",
              "                        iframe.height = height;\n",
              "                        iframe.allow = \"autoplay; camera; microphone; clipboard-read; clipboard-write;\"\n",
              "                        iframe.width = width;\n",
              "                        iframe.style.border = 0;\n",
              "                        element.appendChild(iframe);\n",
              "                    })(7861, \"/\", \"100%\", 500, false, window.element)"
            ]
          },
          "metadata": {}
        },
        {
          "output_type": "execute_result",
          "data": {
            "text/plain": []
          },
          "metadata": {},
          "execution_count": 7
        }
      ]
    }
  ]
}